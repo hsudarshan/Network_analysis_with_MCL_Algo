{
 "cells": [
  {
   "cell_type": "code",
   "execution_count": null,
   "metadata": {
    "collapsed": true
   },
   "outputs": [],
   "source": [
    "import hw3_functions as hw3_func"
   ]
  },
  {
   "cell_type": "code",
   "execution_count": null,
   "metadata": {
    "collapsed": true
   },
   "outputs": [],
   "source": [
    "import numpy as np\n",
    "import pandas as pd\n",
    "import os\n",
    "from sklearn.preprocessing import normalize\n",
    "from numpy import linalg as LA\n",
    "import collections"
   ]
  },
  {
   "cell_type": "code",
   "execution_count": null,
   "metadata": {
    "collapsed": true
   },
   "outputs": [],
   "source": [
    "#read input data\n",
    "data_path = \"/home/hs/study/cse_601/data/Data_For_HW3/\"\n",
    "#input_file = \"yeast_undirected_metabolic.txt\"\n",
    "#input_file = \"physics_collaboration_net.txt\"\n",
    "#input_file = \"beta_test_data.txt\"\n",
    "input_file  = \"attweb_net.txt\"\n",
    "#input_file = 'example.txt'\n",
    "ip_file = data_path + input_file\n",
    "input_delimiter = \" \"\n",
    "ip = pd.read_table(filepath_or_buffer=ip_file,sep=input_delimiter,header=None)\n",
    "if(input_file==\"attweb_net.txt\"):\n",
    "    pass\n",
    "else:\n",
    "    ip,dict_map = hw3_func.ip_df_serialised(ip)"
   ]
  },
  {
   "cell_type": "code",
   "execution_count": null,
   "metadata": {
    "collapsed": false
   },
   "outputs": [],
   "source": [
    "#set parameters for running the program\n",
    "max_iter = 50\n",
    "#assuming serial numbering of nodes\n",
    "node_min = ip.min(axis=0).min()\n",
    "node_max = ip.max(axis=0).max()\n",
    "node_range = node_max - node_min\n",
    "single_value_run = False\n",
    "#expansion range 2-5, steps of 1\n",
    "#inflation range 1.1-2, steps of 0.1\n",
    "init_expansion_param = 2\n",
    "init_inflation_param = 1.0\n",
    "step_expansion_param = 1\n",
    "step_inflation_param = 0.1\n",
    "max_inflation_param = 2\n",
    "max_expansion_param = 5\n",
    "ip_copy = ip.loc[:,:]"
   ]
  },
  {
   "cell_type": "code",
   "execution_count": null,
   "metadata": {
    "collapsed": false
   },
   "outputs": [],
   "source": [
    "#create init_matrix\n",
    "init_matrix = np.eye(N=node_range+1)\n",
    "#populate initial_matrix\n",
    "hw3_func.populate_init_matrix(init_matrix=init_matrix,input_dataframe=ip)\n",
    "#normalize initial_matrix\n",
    "norm_matrix = hw3_func.normalize_matrix_column(matrix_tb_norm=init_matrix)\n",
    "#set Prev matrix for while loop check\n",
    "prev_matrix = init_matrix\n",
    "#create safe copy\n",
    "new_norm_matrix = norm_matrix[:,:]\n",
    "cur_expansion_param = init_expansion_param\n",
    "cur_inflation_param = init_inflation_param\n",
    "#create df to store clustering results\n",
    "if(single_value_run==True):\n",
    "    col_list = ['exp_'+str(init_expansion_param)+'_infl_'+str(init_inflation_param)]\n",
    "    df_dummy_fill = np.zeros(shape=(node_range+1,len(col_list)),dtype=np.int64)\n",
    "    result_df = pd.DataFrame(data=df_dummy_fill,columns=col_list,index=np.arange(0,node_range+1))\n",
    "    max_expansion_param = init_expansion_param\n",
    "    max_inflation_param = init_inflation_param\n",
    "else:\n",
    "    exp_arr = np.arange(cur_expansion_param,max_expansion_param+1,step_expansion_param)\n",
    "    infl_arr = np.arange(cur_inflation_param,max_inflation_param+step_inflation_param,step_inflation_param)\n",
    "    col_list = []\n",
    "    for exp_val in exp_arr:\n",
    "        for infl_val in infl_arr:\n",
    "            col_list.append('exp_'+str(exp_val)+'_infl_'+str(infl_val))\n",
    "    df_dummy_fill = np.zeros(shape=(node_range+1,len(col_list)),dtype=np.int64)\n",
    "    result_df = pd.DataFrame(data=df_dummy_fill,columns=col_list,index=np.arange(0,node_range+1))"
   ]
  },
  {
   "cell_type": "code",
   "execution_count": null,
   "metadata": {
    "collapsed": false
   },
   "outputs": [],
   "source": [
    "while((cur_expansion_param<=max_expansion_param)):\n",
    "    #initilize counter\n",
    "    num_iter=0\n",
    "    #adding rounding off\n",
    "    cur_inflation_param=round(cur_inflation_param,1)\n",
    "    #initialize list\n",
    "    #set Prev matrix for while loop check\n",
    "    prev_matrix = init_matrix\n",
    "    #create safe copy\n",
    "    new_norm_matrix = norm_matrix[:,:]\n",
    "    #print('Current expansion/inflation params : {}/{}'.format(cur_expansion_param,cur_inflation_param))\n",
    "    #while loop where all the action happens\n",
    "    while((num_iter<max_iter) and \\\n",
    "          (not((hw3_func.check_matrix_di(matrix_cur=new_norm_matrix,matrix_prev=prev_matrix))))):\n",
    "        prev_matrix=new_norm_matrix[:,:]\n",
    "        new_norm_matrix = hw3_func.expand_inflate_normalize(matrix_input=new_norm_matrix,expansion_param=cur_expansion_param\\\n",
    "                                                   ,inflation_param=cur_inflation_param,prune_by_rounding=False)\n",
    "        num_iter+=1\n",
    "        #print(num_iter)\n",
    "    hw3_func.extract_2_df_cluster_grouping(stable_matrix=new_norm_matrix,exp_val=cur_expansion_param,\\\n",
    "                                 infl_val=cur_inflation_param,result_df=result_df,min_positive_value=0.0)\n",
    "    #increment cur_inflation_param\n",
    "    cur_inflation_param += step_inflation_param\n",
    "    if(cur_inflation_param >max_inflation_param):\n",
    "        cur_inflation_param = init_inflation_param\n",
    "        cur_expansion_param+=step_expansion_param"
   ]
  },
  {
   "cell_type": "code",
   "execution_count": null,
   "metadata": {
    "collapsed": false
   },
   "outputs": [],
   "source": [
    "hw3_func.write_result(input_file=input_file,result_df=result_df)"
   ]
  },
  {
   "cell_type": "code",
   "execution_count": null,
   "metadata": {
    "collapsed": true
   },
   "outputs": [],
   "source": [
    "\n"
   ]
  }
 ],
 "metadata": {
  "anaconda-cloud": {},
  "kernelspec": {
   "display_name": "Python [default]",
   "language": "python",
   "name": "python2"
  },
  "language_info": {
   "codemirror_mode": {
    "name": "ipython",
    "version": 2
   },
   "file_extension": ".py",
   "mimetype": "text/x-python",
   "name": "python",
   "nbconvert_exporter": "python",
   "pygments_lexer": "ipython2",
   "version": "2.7.12"
  }
 },
 "nbformat": 4,
 "nbformat_minor": 1
}
